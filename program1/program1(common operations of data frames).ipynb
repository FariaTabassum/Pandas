{
 "cells": [
  {
   "cell_type": "code",
   "execution_count": 1,
   "id": "8f9d70ae",
   "metadata": {},
   "outputs": [],
   "source": [
    "import numpy as np\n",
    "import pandas as pd"
   ]
  },
  {
   "cell_type": "code",
   "execution_count": 2,
   "id": "026a2c88",
   "metadata": {},
   "outputs": [],
   "source": [
    "dict1={\n",
    "    \"name\":['afra','nabila','juhi','niha'],\n",
    "    \"marks\":[90,92,91,93]\n",
    "}"
   ]
  },
  {
   "cell_type": "code",
   "execution_count": 3,
   "id": "6aa9a401",
   "metadata": {},
   "outputs": [],
   "source": [
    "df=pd.DataFrame(dict1)"
   ]
  },
  {
   "cell_type": "code",
   "execution_count": 4,
   "id": "2244a7e6",
   "metadata": {},
   "outputs": [
    {
     "data": {
      "text/html": [
       "<div>\n",
       "<style scoped>\n",
       "    .dataframe tbody tr th:only-of-type {\n",
       "        vertical-align: middle;\n",
       "    }\n",
       "\n",
       "    .dataframe tbody tr th {\n",
       "        vertical-align: top;\n",
       "    }\n",
       "\n",
       "    .dataframe thead th {\n",
       "        text-align: right;\n",
       "    }\n",
       "</style>\n",
       "<table border=\"1\" class=\"dataframe\">\n",
       "  <thead>\n",
       "    <tr style=\"text-align: right;\">\n",
       "      <th></th>\n",
       "      <th>name</th>\n",
       "      <th>marks</th>\n",
       "    </tr>\n",
       "  </thead>\n",
       "  <tbody>\n",
       "    <tr>\n",
       "      <th>0</th>\n",
       "      <td>afra</td>\n",
       "      <td>90</td>\n",
       "    </tr>\n",
       "    <tr>\n",
       "      <th>1</th>\n",
       "      <td>nabila</td>\n",
       "      <td>92</td>\n",
       "    </tr>\n",
       "    <tr>\n",
       "      <th>2</th>\n",
       "      <td>juhi</td>\n",
       "      <td>91</td>\n",
       "    </tr>\n",
       "    <tr>\n",
       "      <th>3</th>\n",
       "      <td>niha</td>\n",
       "      <td>93</td>\n",
       "    </tr>\n",
       "  </tbody>\n",
       "</table>\n",
       "</div>"
      ],
      "text/plain": [
       "     name  marks\n",
       "0    afra     90\n",
       "1  nabila     92\n",
       "2    juhi     91\n",
       "3    niha     93"
      ]
     },
     "execution_count": 4,
     "metadata": {},
     "output_type": "execute_result"
    }
   ],
   "source": [
    "df"
   ]
  },
  {
   "cell_type": "code",
   "execution_count": 5,
   "id": "bdcdea77",
   "metadata": {},
   "outputs": [],
   "source": [
    "df.to_csv('friends.csv')"
   ]
  },
  {
   "cell_type": "code",
   "execution_count": 6,
   "id": "ea2b42f6",
   "metadata": {},
   "outputs": [],
   "source": [
    "df.to_csv('friends_indexfalse.csv',index=False)"
   ]
  },
  {
   "cell_type": "code",
   "execution_count": 7,
   "id": "80a45f76",
   "metadata": {},
   "outputs": [
    {
     "data": {
      "text/html": [
       "<div>\n",
       "<style scoped>\n",
       "    .dataframe tbody tr th:only-of-type {\n",
       "        vertical-align: middle;\n",
       "    }\n",
       "\n",
       "    .dataframe tbody tr th {\n",
       "        vertical-align: top;\n",
       "    }\n",
       "\n",
       "    .dataframe thead th {\n",
       "        text-align: right;\n",
       "    }\n",
       "</style>\n",
       "<table border=\"1\" class=\"dataframe\">\n",
       "  <thead>\n",
       "    <tr style=\"text-align: right;\">\n",
       "      <th></th>\n",
       "      <th>name</th>\n",
       "      <th>marks</th>\n",
       "    </tr>\n",
       "  </thead>\n",
       "  <tbody>\n",
       "    <tr>\n",
       "      <th>0</th>\n",
       "      <td>afra</td>\n",
       "      <td>90</td>\n",
       "    </tr>\n",
       "    <tr>\n",
       "      <th>1</th>\n",
       "      <td>nabila</td>\n",
       "      <td>92</td>\n",
       "    </tr>\n",
       "  </tbody>\n",
       "</table>\n",
       "</div>"
      ],
      "text/plain": [
       "     name  marks\n",
       "0    afra     90\n",
       "1  nabila     92"
      ]
     },
     "execution_count": 7,
     "metadata": {},
     "output_type": "execute_result"
    }
   ],
   "source": [
    "df.head(2)"
   ]
  },
  {
   "cell_type": "code",
   "execution_count": 8,
   "id": "13e0844e",
   "metadata": {},
   "outputs": [
    {
     "data": {
      "text/html": [
       "<div>\n",
       "<style scoped>\n",
       "    .dataframe tbody tr th:only-of-type {\n",
       "        vertical-align: middle;\n",
       "    }\n",
       "\n",
       "    .dataframe tbody tr th {\n",
       "        vertical-align: top;\n",
       "    }\n",
       "\n",
       "    .dataframe thead th {\n",
       "        text-align: right;\n",
       "    }\n",
       "</style>\n",
       "<table border=\"1\" class=\"dataframe\">\n",
       "  <thead>\n",
       "    <tr style=\"text-align: right;\">\n",
       "      <th></th>\n",
       "      <th>name</th>\n",
       "      <th>marks</th>\n",
       "    </tr>\n",
       "  </thead>\n",
       "  <tbody>\n",
       "    <tr>\n",
       "      <th>2</th>\n",
       "      <td>juhi</td>\n",
       "      <td>91</td>\n",
       "    </tr>\n",
       "    <tr>\n",
       "      <th>3</th>\n",
       "      <td>niha</td>\n",
       "      <td>93</td>\n",
       "    </tr>\n",
       "  </tbody>\n",
       "</table>\n",
       "</div>"
      ],
      "text/plain": [
       "   name  marks\n",
       "2  juhi     91\n",
       "3  niha     93"
      ]
     },
     "execution_count": 8,
     "metadata": {},
     "output_type": "execute_result"
    }
   ],
   "source": [
    "df.tail(2)"
   ]
  },
  {
   "cell_type": "code",
   "execution_count": 9,
   "id": "00a8a841",
   "metadata": {},
   "outputs": [
    {
     "data": {
      "text/html": [
       "<div>\n",
       "<style scoped>\n",
       "    .dataframe tbody tr th:only-of-type {\n",
       "        vertical-align: middle;\n",
       "    }\n",
       "\n",
       "    .dataframe tbody tr th {\n",
       "        vertical-align: top;\n",
       "    }\n",
       "\n",
       "    .dataframe thead th {\n",
       "        text-align: right;\n",
       "    }\n",
       "</style>\n",
       "<table border=\"1\" class=\"dataframe\">\n",
       "  <thead>\n",
       "    <tr style=\"text-align: right;\">\n",
       "      <th></th>\n",
       "      <th>marks</th>\n",
       "    </tr>\n",
       "  </thead>\n",
       "  <tbody>\n",
       "    <tr>\n",
       "      <th>count</th>\n",
       "      <td>4.000000</td>\n",
       "    </tr>\n",
       "    <tr>\n",
       "      <th>mean</th>\n",
       "      <td>91.500000</td>\n",
       "    </tr>\n",
       "    <tr>\n",
       "      <th>std</th>\n",
       "      <td>1.290994</td>\n",
       "    </tr>\n",
       "    <tr>\n",
       "      <th>min</th>\n",
       "      <td>90.000000</td>\n",
       "    </tr>\n",
       "    <tr>\n",
       "      <th>25%</th>\n",
       "      <td>90.750000</td>\n",
       "    </tr>\n",
       "    <tr>\n",
       "      <th>50%</th>\n",
       "      <td>91.500000</td>\n",
       "    </tr>\n",
       "    <tr>\n",
       "      <th>75%</th>\n",
       "      <td>92.250000</td>\n",
       "    </tr>\n",
       "    <tr>\n",
       "      <th>max</th>\n",
       "      <td>93.000000</td>\n",
       "    </tr>\n",
       "  </tbody>\n",
       "</table>\n",
       "</div>"
      ],
      "text/plain": [
       "           marks\n",
       "count   4.000000\n",
       "mean   91.500000\n",
       "std     1.290994\n",
       "min    90.000000\n",
       "25%    90.750000\n",
       "50%    91.500000\n",
       "75%    92.250000\n",
       "max    93.000000"
      ]
     },
     "execution_count": 9,
     "metadata": {},
     "output_type": "execute_result"
    }
   ],
   "source": [
    "df.describe()"
   ]
  },
  {
   "cell_type": "code",
   "execution_count": 10,
   "id": "d5b853e3",
   "metadata": {},
   "outputs": [],
   "source": [
    "nabila = pd.read_csv('practise.csv')"
   ]
  },
  {
   "cell_type": "code",
   "execution_count": 11,
   "id": "e47e311f",
   "metadata": {},
   "outputs": [
    {
     "data": {
      "text/html": [
       "<div>\n",
       "<style scoped>\n",
       "    .dataframe tbody tr th:only-of-type {\n",
       "        vertical-align: middle;\n",
       "    }\n",
       "\n",
       "    .dataframe tbody tr th {\n",
       "        vertical-align: top;\n",
       "    }\n",
       "\n",
       "    .dataframe thead th {\n",
       "        text-align: right;\n",
       "    }\n",
       "</style>\n",
       "<table border=\"1\" class=\"dataframe\">\n",
       "  <thead>\n",
       "    <tr style=\"text-align: right;\">\n",
       "      <th></th>\n",
       "      <th>name</th>\n",
       "      <th>marks</th>\n",
       "      <th>City</th>\n",
       "      <th>Unnamed: 3</th>\n",
       "    </tr>\n",
       "  </thead>\n",
       "  <tbody>\n",
       "    <tr>\n",
       "      <th>0</th>\n",
       "      <td>afra</td>\n",
       "      <td>90</td>\n",
       "      <td>CTG</td>\n",
       "      <td>NaN</td>\n",
       "    </tr>\n",
       "    <tr>\n",
       "      <th>1</th>\n",
       "      <td>nabila</td>\n",
       "      <td>92</td>\n",
       "      <td>Dhaka</td>\n",
       "      <td>NaN</td>\n",
       "    </tr>\n",
       "    <tr>\n",
       "      <th>2</th>\n",
       "      <td>juhi</td>\n",
       "      <td>91</td>\n",
       "      <td>Cox</td>\n",
       "      <td>NaN</td>\n",
       "    </tr>\n",
       "    <tr>\n",
       "      <th>3</th>\n",
       "      <td>niha</td>\n",
       "      <td>93</td>\n",
       "      <td>CTG</td>\n",
       "      <td>NaN</td>\n",
       "    </tr>\n",
       "  </tbody>\n",
       "</table>\n",
       "</div>"
      ],
      "text/plain": [
       "     name  marks   City  Unnamed: 3\n",
       "0    afra     90    CTG         NaN\n",
       "1  nabila     92  Dhaka         NaN\n",
       "2    juhi     91    Cox         NaN\n",
       "3    niha     93    CTG         NaN"
      ]
     },
     "execution_count": 11,
     "metadata": {},
     "output_type": "execute_result"
    }
   ],
   "source": [
    "nabila"
   ]
  },
  {
   "cell_type": "code",
   "execution_count": 12,
   "id": "162676e2",
   "metadata": {},
   "outputs": [
    {
     "data": {
      "text/plain": [
       "0    90\n",
       "1    92\n",
       "2    91\n",
       "3    93\n",
       "Name: marks, dtype: int64"
      ]
     },
     "execution_count": 12,
     "metadata": {},
     "output_type": "execute_result"
    }
   ],
   "source": [
    "nabila['marks']"
   ]
  },
  {
   "cell_type": "code",
   "execution_count": 13,
   "id": "4f9b9230",
   "metadata": {},
   "outputs": [
    {
     "data": {
      "text/plain": [
       "90"
      ]
     },
     "execution_count": 13,
     "metadata": {},
     "output_type": "execute_result"
    }
   ],
   "source": [
    "nabila['marks'][0]"
   ]
  },
  {
   "cell_type": "code",
   "execution_count": 16,
   "id": "c6b7a2e8",
   "metadata": {},
   "outputs": [],
   "source": [
    "nabila.index = ['first','second','third','forth']"
   ]
  },
  {
   "cell_type": "code",
   "execution_count": 17,
   "id": "84b70b47",
   "metadata": {},
   "outputs": [
    {
     "data": {
      "text/html": [
       "<div>\n",
       "<style scoped>\n",
       "    .dataframe tbody tr th:only-of-type {\n",
       "        vertical-align: middle;\n",
       "    }\n",
       "\n",
       "    .dataframe tbody tr th {\n",
       "        vertical-align: top;\n",
       "    }\n",
       "\n",
       "    .dataframe thead th {\n",
       "        text-align: right;\n",
       "    }\n",
       "</style>\n",
       "<table border=\"1\" class=\"dataframe\">\n",
       "  <thead>\n",
       "    <tr style=\"text-align: right;\">\n",
       "      <th></th>\n",
       "      <th>name</th>\n",
       "      <th>marks</th>\n",
       "      <th>City</th>\n",
       "      <th>Unnamed: 3</th>\n",
       "    </tr>\n",
       "  </thead>\n",
       "  <tbody>\n",
       "    <tr>\n",
       "      <th>first</th>\n",
       "      <td>afra</td>\n",
       "      <td>90</td>\n",
       "      <td>CTG</td>\n",
       "      <td>NaN</td>\n",
       "    </tr>\n",
       "    <tr>\n",
       "      <th>second</th>\n",
       "      <td>nabila</td>\n",
       "      <td>92</td>\n",
       "      <td>Dhaka</td>\n",
       "      <td>NaN</td>\n",
       "    </tr>\n",
       "    <tr>\n",
       "      <th>third</th>\n",
       "      <td>juhi</td>\n",
       "      <td>91</td>\n",
       "      <td>Cox</td>\n",
       "      <td>NaN</td>\n",
       "    </tr>\n",
       "    <tr>\n",
       "      <th>forth</th>\n",
       "      <td>niha</td>\n",
       "      <td>93</td>\n",
       "      <td>CTG</td>\n",
       "      <td>NaN</td>\n",
       "    </tr>\n",
       "  </tbody>\n",
       "</table>\n",
       "</div>"
      ],
      "text/plain": [
       "          name  marks   City  Unnamed: 3\n",
       "first     afra     90    CTG         NaN\n",
       "second  nabila     92  Dhaka         NaN\n",
       "third     juhi     91    Cox         NaN\n",
       "forth     niha     93    CTG         NaN"
      ]
     },
     "execution_count": 17,
     "metadata": {},
     "output_type": "execute_result"
    }
   ],
   "source": [
    "nabila"
   ]
  },
  {
   "cell_type": "code",
   "execution_count": 46,
   "id": "fca66f71",
   "metadata": {},
   "outputs": [
    {
     "data": {
      "text/html": [
       "<div>\n",
       "<style scoped>\n",
       "    .dataframe tbody tr th:only-of-type {\n",
       "        vertical-align: middle;\n",
       "    }\n",
       "\n",
       "    .dataframe tbody tr th {\n",
       "        vertical-align: top;\n",
       "    }\n",
       "\n",
       "    .dataframe thead th {\n",
       "        text-align: right;\n",
       "    }\n",
       "</style>\n",
       "<table border=\"1\" class=\"dataframe\">\n",
       "  <thead>\n",
       "    <tr style=\"text-align: right;\">\n",
       "      <th></th>\n",
       "      <th>name</th>\n",
       "      <th>marks</th>\n",
       "    </tr>\n",
       "  </thead>\n",
       "  <tbody>\n",
       "    <tr>\n",
       "      <th>1</th>\n",
       "      <td>nabila</td>\n",
       "      <td>92</td>\n",
       "    </tr>\n",
       "    <tr>\n",
       "      <th>2</th>\n",
       "      <td>juhi</td>\n",
       "      <td>91</td>\n",
       "    </tr>\n",
       "    <tr>\n",
       "      <th>3</th>\n",
       "      <td>niha</td>\n",
       "      <td>93</td>\n",
       "    </tr>\n",
       "  </tbody>\n",
       "</table>\n",
       "</div>"
      ],
      "text/plain": [
       "     name  marks\n",
       "1  nabila     92\n",
       "2    juhi     91\n",
       "3    niha     93"
      ]
     },
     "execution_count": 46,
     "metadata": {},
     "output_type": "execute_result"
    }
   ],
   "source": [
    "#condition statement\n",
    "df[df.marks>=91]"
   ]
  },
  {
   "cell_type": "code",
   "execution_count": 48,
   "id": "3a420f9d",
   "metadata": {},
   "outputs": [
    {
     "data": {
      "text/html": [
       "<div>\n",
       "<style scoped>\n",
       "    .dataframe tbody tr th:only-of-type {\n",
       "        vertical-align: middle;\n",
       "    }\n",
       "\n",
       "    .dataframe tbody tr th {\n",
       "        vertical-align: top;\n",
       "    }\n",
       "\n",
       "    .dataframe thead th {\n",
       "        text-align: right;\n",
       "    }\n",
       "</style>\n",
       "<table border=\"1\" class=\"dataframe\">\n",
       "  <thead>\n",
       "    <tr style=\"text-align: right;\">\n",
       "      <th></th>\n",
       "      <th>name</th>\n",
       "      <th>marks</th>\n",
       "    </tr>\n",
       "  </thead>\n",
       "  <tbody>\n",
       "    <tr>\n",
       "      <th>3</th>\n",
       "      <td>niha</td>\n",
       "      <td>93</td>\n",
       "    </tr>\n",
       "  </tbody>\n",
       "</table>\n",
       "</div>"
      ],
      "text/plain": [
       "   name  marks\n",
       "3  niha     93"
      ]
     },
     "execution_count": 48,
     "metadata": {},
     "output_type": "execute_result"
    }
   ],
   "source": [
    "df[df.marks==df['marks'].max()]"
   ]
  },
  {
   "cell_type": "code",
   "execution_count": 50,
   "id": "ec946909",
   "metadata": {},
   "outputs": [],
   "source": [
    "df.set_index('name',inplace=True)"
   ]
  },
  {
   "cell_type": "code",
   "execution_count": 51,
   "id": "0d0d427f",
   "metadata": {},
   "outputs": [
    {
     "data": {
      "text/html": [
       "<div>\n",
       "<style scoped>\n",
       "    .dataframe tbody tr th:only-of-type {\n",
       "        vertical-align: middle;\n",
       "    }\n",
       "\n",
       "    .dataframe tbody tr th {\n",
       "        vertical-align: top;\n",
       "    }\n",
       "\n",
       "    .dataframe thead th {\n",
       "        text-align: right;\n",
       "    }\n",
       "</style>\n",
       "<table border=\"1\" class=\"dataframe\">\n",
       "  <thead>\n",
       "    <tr style=\"text-align: right;\">\n",
       "      <th></th>\n",
       "      <th>marks</th>\n",
       "    </tr>\n",
       "    <tr>\n",
       "      <th>name</th>\n",
       "      <th></th>\n",
       "    </tr>\n",
       "  </thead>\n",
       "  <tbody>\n",
       "    <tr>\n",
       "      <th>afra</th>\n",
       "      <td>90</td>\n",
       "    </tr>\n",
       "    <tr>\n",
       "      <th>nabila</th>\n",
       "      <td>92</td>\n",
       "    </tr>\n",
       "    <tr>\n",
       "      <th>juhi</th>\n",
       "      <td>91</td>\n",
       "    </tr>\n",
       "    <tr>\n",
       "      <th>niha</th>\n",
       "      <td>93</td>\n",
       "    </tr>\n",
       "  </tbody>\n",
       "</table>\n",
       "</div>"
      ],
      "text/plain": [
       "        marks\n",
       "name         \n",
       "afra       90\n",
       "nabila     92\n",
       "juhi       91\n",
       "niha       93"
      ]
     },
     "execution_count": 51,
     "metadata": {},
     "output_type": "execute_result"
    }
   ],
   "source": [
    "df"
   ]
  },
  {
   "cell_type": "code",
   "execution_count": 52,
   "id": "b93f7f87",
   "metadata": {},
   "outputs": [
    {
     "data": {
      "text/plain": [
       "marks    90\n",
       "Name: afra, dtype: int64"
      ]
     },
     "execution_count": 52,
     "metadata": {},
     "output_type": "execute_result"
    }
   ],
   "source": [
    "df.loc['afra']"
   ]
  },
  {
   "cell_type": "code",
   "execution_count": 19,
   "id": "7134ea16",
   "metadata": {},
   "outputs": [],
   "source": [
    "ser = pd.Series(np.random.rand(34))"
   ]
  },
  {
   "cell_type": "code",
   "execution_count": 20,
   "id": "dcf7b84f",
   "metadata": {},
   "outputs": [
    {
     "data": {
      "text/plain": [
       "0     0.886068\n",
       "1     0.126143\n",
       "2     0.248346\n",
       "3     0.737447\n",
       "4     0.813627\n",
       "5     0.671543\n",
       "6     0.074151\n",
       "7     0.221132\n",
       "8     0.424267\n",
       "9     0.216556\n",
       "10    0.248585\n",
       "11    0.990176\n",
       "12    0.577725\n",
       "13    0.819141\n",
       "14    0.957210\n",
       "15    0.467437\n",
       "16    0.017341\n",
       "17    0.992219\n",
       "18    0.400457\n",
       "19    0.620689\n",
       "20    0.999197\n",
       "21    0.437139\n",
       "22    0.526017\n",
       "23    0.913253\n",
       "24    0.100885\n",
       "25    0.883595\n",
       "26    0.083374\n",
       "27    0.558581\n",
       "28    0.866364\n",
       "29    0.227379\n",
       "30    0.209589\n",
       "31    0.926972\n",
       "32    0.304877\n",
       "33    0.077604\n",
       "dtype: float64"
      ]
     },
     "execution_count": 20,
     "metadata": {},
     "output_type": "execute_result"
    }
   ],
   "source": [
    "ser"
   ]
  },
  {
   "cell_type": "code",
   "execution_count": 21,
   "id": "0e3f05d6",
   "metadata": {},
   "outputs": [
    {
     "data": {
      "text/plain": [
       "pandas.core.series.Series"
      ]
     },
     "execution_count": 21,
     "metadata": {},
     "output_type": "execute_result"
    }
   ],
   "source": [
    "type(ser)"
   ]
  },
  {
   "cell_type": "code",
   "execution_count": 42,
   "id": "f463d0bd",
   "metadata": {},
   "outputs": [
    {
     "data": {
      "text/html": [
       "<div>\n",
       "<style scoped>\n",
       "    .dataframe tbody tr th:only-of-type {\n",
       "        vertical-align: middle;\n",
       "    }\n",
       "\n",
       "    .dataframe tbody tr th {\n",
       "        vertical-align: top;\n",
       "    }\n",
       "\n",
       "    .dataframe thead th {\n",
       "        text-align: right;\n",
       "    }\n",
       "</style>\n",
       "<table border=\"1\" class=\"dataframe\">\n",
       "  <thead>\n",
       "    <tr style=\"text-align: right;\">\n",
       "      <th></th>\n",
       "      <th>name</th>\n",
       "      <th>marks</th>\n",
       "    </tr>\n",
       "  </thead>\n",
       "  <tbody>\n",
       "    <tr>\n",
       "      <th>0</th>\n",
       "      <td>afra</td>\n",
       "      <td>90</td>\n",
       "    </tr>\n",
       "    <tr>\n",
       "      <th>1</th>\n",
       "      <td>nabila</td>\n",
       "      <td>92</td>\n",
       "    </tr>\n",
       "    <tr>\n",
       "      <th>2</th>\n",
       "      <td>juhi</td>\n",
       "      <td>91</td>\n",
       "    </tr>\n",
       "    <tr>\n",
       "      <th>3</th>\n",
       "      <td>niha</td>\n",
       "      <td>93</td>\n",
       "    </tr>\n",
       "  </tbody>\n",
       "</table>\n",
       "</div>"
      ],
      "text/plain": [
       "     name  marks\n",
       "0    afra     90\n",
       "1  nabila     92\n",
       "2    juhi     91\n",
       "3    niha     93"
      ]
     },
     "execution_count": 42,
     "metadata": {},
     "output_type": "execute_result"
    }
   ],
   "source": [
    "df[['name','marks']]"
   ]
  },
  {
   "cell_type": "code",
   "execution_count": 23,
   "id": "9a0425ca",
   "metadata": {},
   "outputs": [],
   "source": [
    "newdef=pd.DataFrame(np.random.rand(334,5),index = np.arange(334))"
   ]
  },
  {
   "cell_type": "code",
   "execution_count": 24,
   "id": "49ed09bf",
   "metadata": {},
   "outputs": [
    {
     "data": {
      "text/html": [
       "<div>\n",
       "<style scoped>\n",
       "    .dataframe tbody tr th:only-of-type {\n",
       "        vertical-align: middle;\n",
       "    }\n",
       "\n",
       "    .dataframe tbody tr th {\n",
       "        vertical-align: top;\n",
       "    }\n",
       "\n",
       "    .dataframe thead th {\n",
       "        text-align: right;\n",
       "    }\n",
       "</style>\n",
       "<table border=\"1\" class=\"dataframe\">\n",
       "  <thead>\n",
       "    <tr style=\"text-align: right;\">\n",
       "      <th></th>\n",
       "      <th>0</th>\n",
       "      <th>1</th>\n",
       "      <th>2</th>\n",
       "      <th>3</th>\n",
       "      <th>4</th>\n",
       "    </tr>\n",
       "  </thead>\n",
       "  <tbody>\n",
       "    <tr>\n",
       "      <th>0</th>\n",
       "      <td>0.851177</td>\n",
       "      <td>0.944451</td>\n",
       "      <td>0.523790</td>\n",
       "      <td>0.086499</td>\n",
       "      <td>0.556148</td>\n",
       "    </tr>\n",
       "    <tr>\n",
       "      <th>1</th>\n",
       "      <td>0.444443</td>\n",
       "      <td>0.885758</td>\n",
       "      <td>0.090260</td>\n",
       "      <td>0.052291</td>\n",
       "      <td>0.828485</td>\n",
       "    </tr>\n",
       "    <tr>\n",
       "      <th>2</th>\n",
       "      <td>0.950823</td>\n",
       "      <td>0.974773</td>\n",
       "      <td>0.472315</td>\n",
       "      <td>0.157832</td>\n",
       "      <td>0.707804</td>\n",
       "    </tr>\n",
       "    <tr>\n",
       "      <th>3</th>\n",
       "      <td>0.929569</td>\n",
       "      <td>0.754723</td>\n",
       "      <td>0.845063</td>\n",
       "      <td>0.488623</td>\n",
       "      <td>0.092851</td>\n",
       "    </tr>\n",
       "    <tr>\n",
       "      <th>4</th>\n",
       "      <td>0.864225</td>\n",
       "      <td>0.124911</td>\n",
       "      <td>0.271490</td>\n",
       "      <td>0.319305</td>\n",
       "      <td>0.009831</td>\n",
       "    </tr>\n",
       "  </tbody>\n",
       "</table>\n",
       "</div>"
      ],
      "text/plain": [
       "          0         1         2         3         4\n",
       "0  0.851177  0.944451  0.523790  0.086499  0.556148\n",
       "1  0.444443  0.885758  0.090260  0.052291  0.828485\n",
       "2  0.950823  0.974773  0.472315  0.157832  0.707804\n",
       "3  0.929569  0.754723  0.845063  0.488623  0.092851\n",
       "4  0.864225  0.124911  0.271490  0.319305  0.009831"
      ]
     },
     "execution_count": 24,
     "metadata": {},
     "output_type": "execute_result"
    }
   ],
   "source": [
    "newdef.head()"
   ]
  },
  {
   "cell_type": "code",
   "execution_count": 25,
   "id": "9b28fee8",
   "metadata": {},
   "outputs": [
    {
     "data": {
      "text/html": [
       "<div>\n",
       "<style scoped>\n",
       "    .dataframe tbody tr th:only-of-type {\n",
       "        vertical-align: middle;\n",
       "    }\n",
       "\n",
       "    .dataframe tbody tr th {\n",
       "        vertical-align: top;\n",
       "    }\n",
       "\n",
       "    .dataframe thead th {\n",
       "        text-align: right;\n",
       "    }\n",
       "</style>\n",
       "<table border=\"1\" class=\"dataframe\">\n",
       "  <thead>\n",
       "    <tr style=\"text-align: right;\">\n",
       "      <th></th>\n",
       "      <th>0</th>\n",
       "      <th>1</th>\n",
       "      <th>2</th>\n",
       "      <th>3</th>\n",
       "      <th>4</th>\n",
       "    </tr>\n",
       "  </thead>\n",
       "  <tbody>\n",
       "    <tr>\n",
       "      <th>0</th>\n",
       "      <td>0.851177</td>\n",
       "      <td>0.944451</td>\n",
       "      <td>0.523790</td>\n",
       "      <td>0.086499</td>\n",
       "      <td>0.556148</td>\n",
       "    </tr>\n",
       "    <tr>\n",
       "      <th>1</th>\n",
       "      <td>0.444443</td>\n",
       "      <td>0.885758</td>\n",
       "      <td>0.090260</td>\n",
       "      <td>0.052291</td>\n",
       "      <td>0.828485</td>\n",
       "    </tr>\n",
       "    <tr>\n",
       "      <th>2</th>\n",
       "      <td>0.950823</td>\n",
       "      <td>0.974773</td>\n",
       "      <td>0.472315</td>\n",
       "      <td>0.157832</td>\n",
       "      <td>0.707804</td>\n",
       "    </tr>\n",
       "    <tr>\n",
       "      <th>3</th>\n",
       "      <td>0.929569</td>\n",
       "      <td>0.754723</td>\n",
       "      <td>0.845063</td>\n",
       "      <td>0.488623</td>\n",
       "      <td>0.092851</td>\n",
       "    </tr>\n",
       "    <tr>\n",
       "      <th>4</th>\n",
       "      <td>0.864225</td>\n",
       "      <td>0.124911</td>\n",
       "      <td>0.271490</td>\n",
       "      <td>0.319305</td>\n",
       "      <td>0.009831</td>\n",
       "    </tr>\n",
       "    <tr>\n",
       "      <th>...</th>\n",
       "      <td>...</td>\n",
       "      <td>...</td>\n",
       "      <td>...</td>\n",
       "      <td>...</td>\n",
       "      <td>...</td>\n",
       "    </tr>\n",
       "    <tr>\n",
       "      <th>329</th>\n",
       "      <td>0.783464</td>\n",
       "      <td>0.576992</td>\n",
       "      <td>0.367832</td>\n",
       "      <td>0.409875</td>\n",
       "      <td>0.204301</td>\n",
       "    </tr>\n",
       "    <tr>\n",
       "      <th>330</th>\n",
       "      <td>0.135183</td>\n",
       "      <td>0.633623</td>\n",
       "      <td>0.012337</td>\n",
       "      <td>0.905199</td>\n",
       "      <td>0.703649</td>\n",
       "    </tr>\n",
       "    <tr>\n",
       "      <th>331</th>\n",
       "      <td>0.327712</td>\n",
       "      <td>0.658796</td>\n",
       "      <td>0.582393</td>\n",
       "      <td>0.717915</td>\n",
       "      <td>0.682665</td>\n",
       "    </tr>\n",
       "    <tr>\n",
       "      <th>332</th>\n",
       "      <td>0.021412</td>\n",
       "      <td>0.509982</td>\n",
       "      <td>0.053749</td>\n",
       "      <td>0.122978</td>\n",
       "      <td>0.273090</td>\n",
       "    </tr>\n",
       "    <tr>\n",
       "      <th>333</th>\n",
       "      <td>0.122100</td>\n",
       "      <td>0.166479</td>\n",
       "      <td>0.516526</td>\n",
       "      <td>0.559458</td>\n",
       "      <td>0.943805</td>\n",
       "    </tr>\n",
       "  </tbody>\n",
       "</table>\n",
       "<p>334 rows × 5 columns</p>\n",
       "</div>"
      ],
      "text/plain": [
       "            0         1         2         3         4\n",
       "0    0.851177  0.944451  0.523790  0.086499  0.556148\n",
       "1    0.444443  0.885758  0.090260  0.052291  0.828485\n",
       "2    0.950823  0.974773  0.472315  0.157832  0.707804\n",
       "3    0.929569  0.754723  0.845063  0.488623  0.092851\n",
       "4    0.864225  0.124911  0.271490  0.319305  0.009831\n",
       "..        ...       ...       ...       ...       ...\n",
       "329  0.783464  0.576992  0.367832  0.409875  0.204301\n",
       "330  0.135183  0.633623  0.012337  0.905199  0.703649\n",
       "331  0.327712  0.658796  0.582393  0.717915  0.682665\n",
       "332  0.021412  0.509982  0.053749  0.122978  0.273090\n",
       "333  0.122100  0.166479  0.516526  0.559458  0.943805\n",
       "\n",
       "[334 rows x 5 columns]"
      ]
     },
     "execution_count": 25,
     "metadata": {},
     "output_type": "execute_result"
    }
   ],
   "source": [
    "newdef"
   ]
  },
  {
   "cell_type": "code",
   "execution_count": 26,
   "id": "04d5dfdb",
   "metadata": {},
   "outputs": [
    {
     "data": {
      "text/plain": [
       "pandas.core.frame.DataFrame"
      ]
     },
     "execution_count": 26,
     "metadata": {},
     "output_type": "execute_result"
    }
   ],
   "source": [
    "type(newdef)"
   ]
  },
  {
   "cell_type": "code",
   "execution_count": 27,
   "id": "1368fd61",
   "metadata": {},
   "outputs": [
    {
     "data": {
      "text/html": [
       "<div>\n",
       "<style scoped>\n",
       "    .dataframe tbody tr th:only-of-type {\n",
       "        vertical-align: middle;\n",
       "    }\n",
       "\n",
       "    .dataframe tbody tr th {\n",
       "        vertical-align: top;\n",
       "    }\n",
       "\n",
       "    .dataframe thead th {\n",
       "        text-align: right;\n",
       "    }\n",
       "</style>\n",
       "<table border=\"1\" class=\"dataframe\">\n",
       "  <thead>\n",
       "    <tr style=\"text-align: right;\">\n",
       "      <th></th>\n",
       "      <th>0</th>\n",
       "      <th>1</th>\n",
       "      <th>2</th>\n",
       "      <th>3</th>\n",
       "      <th>4</th>\n",
       "    </tr>\n",
       "  </thead>\n",
       "  <tbody>\n",
       "    <tr>\n",
       "      <th>count</th>\n",
       "      <td>334.000000</td>\n",
       "      <td>334.000000</td>\n",
       "      <td>334.000000</td>\n",
       "      <td>334.000000</td>\n",
       "      <td>334.000000</td>\n",
       "    </tr>\n",
       "    <tr>\n",
       "      <th>mean</th>\n",
       "      <td>0.501207</td>\n",
       "      <td>0.501934</td>\n",
       "      <td>0.472455</td>\n",
       "      <td>0.506795</td>\n",
       "      <td>0.499991</td>\n",
       "    </tr>\n",
       "    <tr>\n",
       "      <th>std</th>\n",
       "      <td>0.289230</td>\n",
       "      <td>0.294127</td>\n",
       "      <td>0.287121</td>\n",
       "      <td>0.290380</td>\n",
       "      <td>0.280906</td>\n",
       "    </tr>\n",
       "    <tr>\n",
       "      <th>min</th>\n",
       "      <td>0.003197</td>\n",
       "      <td>0.003078</td>\n",
       "      <td>0.002175</td>\n",
       "      <td>0.000844</td>\n",
       "      <td>0.001631</td>\n",
       "    </tr>\n",
       "    <tr>\n",
       "      <th>25%</th>\n",
       "      <td>0.254957</td>\n",
       "      <td>0.232795</td>\n",
       "      <td>0.220562</td>\n",
       "      <td>0.280927</td>\n",
       "      <td>0.259238</td>\n",
       "    </tr>\n",
       "    <tr>\n",
       "      <th>50%</th>\n",
       "      <td>0.495214</td>\n",
       "      <td>0.505586</td>\n",
       "      <td>0.495322</td>\n",
       "      <td>0.494881</td>\n",
       "      <td>0.486624</td>\n",
       "    </tr>\n",
       "    <tr>\n",
       "      <th>75%</th>\n",
       "      <td>0.756778</td>\n",
       "      <td>0.753899</td>\n",
       "      <td>0.704354</td>\n",
       "      <td>0.755350</td>\n",
       "      <td>0.729239</td>\n",
       "    </tr>\n",
       "    <tr>\n",
       "      <th>max</th>\n",
       "      <td>0.999367</td>\n",
       "      <td>0.999558</td>\n",
       "      <td>0.995045</td>\n",
       "      <td>0.999217</td>\n",
       "      <td>0.992566</td>\n",
       "    </tr>\n",
       "  </tbody>\n",
       "</table>\n",
       "</div>"
      ],
      "text/plain": [
       "                0           1           2           3           4\n",
       "count  334.000000  334.000000  334.000000  334.000000  334.000000\n",
       "mean     0.501207    0.501934    0.472455    0.506795    0.499991\n",
       "std      0.289230    0.294127    0.287121    0.290380    0.280906\n",
       "min      0.003197    0.003078    0.002175    0.000844    0.001631\n",
       "25%      0.254957    0.232795    0.220562    0.280927    0.259238\n",
       "50%      0.495214    0.505586    0.495322    0.494881    0.486624\n",
       "75%      0.756778    0.753899    0.704354    0.755350    0.729239\n",
       "max      0.999367    0.999558    0.995045    0.999217    0.992566"
      ]
     },
     "execution_count": 27,
     "metadata": {},
     "output_type": "execute_result"
    }
   ],
   "source": [
    "newdef.describe()"
   ]
  },
  {
   "cell_type": "code",
   "execution_count": 28,
   "id": "0ac4cb2d",
   "metadata": {},
   "outputs": [
    {
     "data": {
      "text/plain": [
       "0    float64\n",
       "1    float64\n",
       "2    float64\n",
       "3    float64\n",
       "4    float64\n",
       "dtype: object"
      ]
     },
     "execution_count": 28,
     "metadata": {},
     "output_type": "execute_result"
    }
   ],
   "source": [
    "newdef.dtypes"
   ]
  },
  {
   "cell_type": "code",
   "execution_count": 29,
   "id": "4c5169a4",
   "metadata": {},
   "outputs": [],
   "source": [
    "newdef[0][0] = \"nabila\""
   ]
  },
  {
   "cell_type": "code",
   "execution_count": 30,
   "id": "5502a848",
   "metadata": {},
   "outputs": [
    {
     "data": {
      "text/plain": [
       "0     object\n",
       "1    float64\n",
       "2    float64\n",
       "3    float64\n",
       "4    float64\n",
       "dtype: object"
      ]
     },
     "execution_count": 30,
     "metadata": {},
     "output_type": "execute_result"
    }
   ],
   "source": [
    "newdef.dtypes"
   ]
  },
  {
   "cell_type": "code",
   "execution_count": 31,
   "id": "be120a3e",
   "metadata": {},
   "outputs": [
    {
     "data": {
      "text/html": [
       "<div>\n",
       "<style scoped>\n",
       "    .dataframe tbody tr th:only-of-type {\n",
       "        vertical-align: middle;\n",
       "    }\n",
       "\n",
       "    .dataframe tbody tr th {\n",
       "        vertical-align: top;\n",
       "    }\n",
       "\n",
       "    .dataframe thead th {\n",
       "        text-align: right;\n",
       "    }\n",
       "</style>\n",
       "<table border=\"1\" class=\"dataframe\">\n",
       "  <thead>\n",
       "    <tr style=\"text-align: right;\">\n",
       "      <th></th>\n",
       "      <th>0</th>\n",
       "      <th>1</th>\n",
       "      <th>2</th>\n",
       "      <th>3</th>\n",
       "      <th>4</th>\n",
       "    </tr>\n",
       "  </thead>\n",
       "  <tbody>\n",
       "    <tr>\n",
       "      <th>0</th>\n",
       "      <td>nabila</td>\n",
       "      <td>0.944451</td>\n",
       "      <td>0.523790</td>\n",
       "      <td>0.086499</td>\n",
       "      <td>0.556148</td>\n",
       "    </tr>\n",
       "    <tr>\n",
       "      <th>1</th>\n",
       "      <td>0.444443</td>\n",
       "      <td>0.885758</td>\n",
       "      <td>0.090260</td>\n",
       "      <td>0.052291</td>\n",
       "      <td>0.828485</td>\n",
       "    </tr>\n",
       "    <tr>\n",
       "      <th>2</th>\n",
       "      <td>0.950823</td>\n",
       "      <td>0.974773</td>\n",
       "      <td>0.472315</td>\n",
       "      <td>0.157832</td>\n",
       "      <td>0.707804</td>\n",
       "    </tr>\n",
       "    <tr>\n",
       "      <th>3</th>\n",
       "      <td>0.929569</td>\n",
       "      <td>0.754723</td>\n",
       "      <td>0.845063</td>\n",
       "      <td>0.488623</td>\n",
       "      <td>0.092851</td>\n",
       "    </tr>\n",
       "    <tr>\n",
       "      <th>4</th>\n",
       "      <td>0.864225</td>\n",
       "      <td>0.124911</td>\n",
       "      <td>0.271490</td>\n",
       "      <td>0.319305</td>\n",
       "      <td>0.009831</td>\n",
       "    </tr>\n",
       "  </tbody>\n",
       "</table>\n",
       "</div>"
      ],
      "text/plain": [
       "          0         1         2         3         4\n",
       "0    nabila  0.944451  0.523790  0.086499  0.556148\n",
       "1  0.444443  0.885758  0.090260  0.052291  0.828485\n",
       "2  0.950823  0.974773  0.472315  0.157832  0.707804\n",
       "3  0.929569  0.754723  0.845063  0.488623  0.092851\n",
       "4  0.864225  0.124911  0.271490  0.319305  0.009831"
      ]
     },
     "execution_count": 31,
     "metadata": {},
     "output_type": "execute_result"
    }
   ],
   "source": [
    "newdef.head()\n"
   ]
  },
  {
   "cell_type": "code",
   "execution_count": 32,
   "id": "bc959c36",
   "metadata": {},
   "outputs": [
    {
     "data": {
      "text/plain": [
       "Int64Index([  0,   1,   2,   3,   4,   5,   6,   7,   8,   9,\n",
       "            ...\n",
       "            324, 325, 326, 327, 328, 329, 330, 331, 332, 333],\n",
       "           dtype='int64', length=334)"
      ]
     },
     "execution_count": 32,
     "metadata": {},
     "output_type": "execute_result"
    }
   ],
   "source": [
    "newdef.index"
   ]
  },
  {
   "cell_type": "code",
   "execution_count": 33,
   "id": "2940c0c7",
   "metadata": {},
   "outputs": [
    {
     "data": {
      "text/plain": [
       "RangeIndex(start=0, stop=5, step=1)"
      ]
     },
     "execution_count": 33,
     "metadata": {},
     "output_type": "execute_result"
    }
   ],
   "source": [
    "newdef.columns"
   ]
  },
  {
   "cell_type": "code",
   "execution_count": 35,
   "id": "23eae0ac",
   "metadata": {},
   "outputs": [
    {
     "data": {
      "text/plain": [
       "array([['nabila', 0.9444505155503294, 0.5237896119027763,\n",
       "        0.08649922633522644, 0.5561475525044581],\n",
       "       [0.44444341296504863, 0.8857575084780102, 0.09025961662811388,\n",
       "        0.052290955476963275, 0.828485353192619],\n",
       "       [0.9508234027405889, 0.9747726751597097, 0.47231491460861175,\n",
       "        0.15783242053520918, 0.7078043601886417],\n",
       "       ...,\n",
       "       [0.327711600926905, 0.6587959925138641, 0.5823929742619881,\n",
       "        0.7179149988583057, 0.6826646241222376],\n",
       "       [0.021411518127575024, 0.5099821529825489, 0.05374885619716607,\n",
       "        0.12297840464374998, 0.2730895086387606],\n",
       "       [0.1221003397308067, 0.16647872810813014, 0.5165262669453258,\n",
       "        0.5594577331079341, 0.9438052184026188]], dtype=object)"
      ]
     },
     "execution_count": 35,
     "metadata": {},
     "output_type": "execute_result"
    }
   ],
   "source": [
    "newdef.to_numpy()"
   ]
  },
  {
   "cell_type": "code",
   "execution_count": 36,
   "id": "9b533431",
   "metadata": {},
   "outputs": [
    {
     "data": {
      "text/html": [
       "<div>\n",
       "<style scoped>\n",
       "    .dataframe tbody tr th:only-of-type {\n",
       "        vertical-align: middle;\n",
       "    }\n",
       "\n",
       "    .dataframe tbody tr th {\n",
       "        vertical-align: top;\n",
       "    }\n",
       "\n",
       "    .dataframe thead th {\n",
       "        text-align: right;\n",
       "    }\n",
       "</style>\n",
       "<table border=\"1\" class=\"dataframe\">\n",
       "  <thead>\n",
       "    <tr style=\"text-align: right;\">\n",
       "      <th></th>\n",
       "      <th>0</th>\n",
       "      <th>1</th>\n",
       "      <th>2</th>\n",
       "      <th>3</th>\n",
       "      <th>4</th>\n",
       "      <th>5</th>\n",
       "      <th>6</th>\n",
       "      <th>7</th>\n",
       "      <th>8</th>\n",
       "      <th>9</th>\n",
       "      <th>...</th>\n",
       "      <th>324</th>\n",
       "      <th>325</th>\n",
       "      <th>326</th>\n",
       "      <th>327</th>\n",
       "      <th>328</th>\n",
       "      <th>329</th>\n",
       "      <th>330</th>\n",
       "      <th>331</th>\n",
       "      <th>332</th>\n",
       "      <th>333</th>\n",
       "    </tr>\n",
       "  </thead>\n",
       "  <tbody>\n",
       "    <tr>\n",
       "      <th>0</th>\n",
       "      <td>nabila</td>\n",
       "      <td>0.444443</td>\n",
       "      <td>0.950823</td>\n",
       "      <td>0.929569</td>\n",
       "      <td>0.864225</td>\n",
       "      <td>0.55873</td>\n",
       "      <td>0.256726</td>\n",
       "      <td>0.584996</td>\n",
       "      <td>0.75907</td>\n",
       "      <td>0.418464</td>\n",
       "      <td>...</td>\n",
       "      <td>0.105098</td>\n",
       "      <td>0.435122</td>\n",
       "      <td>0.401711</td>\n",
       "      <td>0.764785</td>\n",
       "      <td>0.223443</td>\n",
       "      <td>0.783464</td>\n",
       "      <td>0.135183</td>\n",
       "      <td>0.327712</td>\n",
       "      <td>0.021412</td>\n",
       "      <td>0.1221</td>\n",
       "    </tr>\n",
       "    <tr>\n",
       "      <th>1</th>\n",
       "      <td>0.944451</td>\n",
       "      <td>0.885758</td>\n",
       "      <td>0.974773</td>\n",
       "      <td>0.754723</td>\n",
       "      <td>0.124911</td>\n",
       "      <td>0.500009</td>\n",
       "      <td>0.789494</td>\n",
       "      <td>0.327945</td>\n",
       "      <td>0.351401</td>\n",
       "      <td>0.130243</td>\n",
       "      <td>...</td>\n",
       "      <td>0.077786</td>\n",
       "      <td>0.146825</td>\n",
       "      <td>0.409608</td>\n",
       "      <td>0.311141</td>\n",
       "      <td>0.016391</td>\n",
       "      <td>0.576992</td>\n",
       "      <td>0.633623</td>\n",
       "      <td>0.658796</td>\n",
       "      <td>0.509982</td>\n",
       "      <td>0.166479</td>\n",
       "    </tr>\n",
       "    <tr>\n",
       "      <th>2</th>\n",
       "      <td>0.52379</td>\n",
       "      <td>0.09026</td>\n",
       "      <td>0.472315</td>\n",
       "      <td>0.845063</td>\n",
       "      <td>0.27149</td>\n",
       "      <td>0.628247</td>\n",
       "      <td>0.477154</td>\n",
       "      <td>0.262025</td>\n",
       "      <td>0.383914</td>\n",
       "      <td>0.300435</td>\n",
       "      <td>...</td>\n",
       "      <td>0.317633</td>\n",
       "      <td>0.221056</td>\n",
       "      <td>0.691396</td>\n",
       "      <td>0.445702</td>\n",
       "      <td>0.073929</td>\n",
       "      <td>0.367832</td>\n",
       "      <td>0.012337</td>\n",
       "      <td>0.582393</td>\n",
       "      <td>0.053749</td>\n",
       "      <td>0.516526</td>\n",
       "    </tr>\n",
       "    <tr>\n",
       "      <th>3</th>\n",
       "      <td>0.086499</td>\n",
       "      <td>0.052291</td>\n",
       "      <td>0.157832</td>\n",
       "      <td>0.488623</td>\n",
       "      <td>0.319305</td>\n",
       "      <td>0.562958</td>\n",
       "      <td>0.124722</td>\n",
       "      <td>0.611114</td>\n",
       "      <td>0.825616</td>\n",
       "      <td>0.858979</td>\n",
       "      <td>...</td>\n",
       "      <td>0.028878</td>\n",
       "      <td>0.74076</td>\n",
       "      <td>0.523124</td>\n",
       "      <td>0.901038</td>\n",
       "      <td>0.161927</td>\n",
       "      <td>0.409875</td>\n",
       "      <td>0.905199</td>\n",
       "      <td>0.717915</td>\n",
       "      <td>0.122978</td>\n",
       "      <td>0.559458</td>\n",
       "    </tr>\n",
       "    <tr>\n",
       "      <th>4</th>\n",
       "      <td>0.556148</td>\n",
       "      <td>0.828485</td>\n",
       "      <td>0.707804</td>\n",
       "      <td>0.092851</td>\n",
       "      <td>0.009831</td>\n",
       "      <td>0.034458</td>\n",
       "      <td>0.124095</td>\n",
       "      <td>0.740452</td>\n",
       "      <td>0.575833</td>\n",
       "      <td>0.490842</td>\n",
       "      <td>...</td>\n",
       "      <td>0.534537</td>\n",
       "      <td>0.145551</td>\n",
       "      <td>0.848118</td>\n",
       "      <td>0.268102</td>\n",
       "      <td>0.817243</td>\n",
       "      <td>0.204301</td>\n",
       "      <td>0.703649</td>\n",
       "      <td>0.682665</td>\n",
       "      <td>0.27309</td>\n",
       "      <td>0.943805</td>\n",
       "    </tr>\n",
       "  </tbody>\n",
       "</table>\n",
       "<p>5 rows × 334 columns</p>\n",
       "</div>"
      ],
      "text/plain": [
       "        0         1         2         3         4         5         6    \\\n",
       "0    nabila  0.444443  0.950823  0.929569  0.864225   0.55873  0.256726   \n",
       "1  0.944451  0.885758  0.974773  0.754723  0.124911  0.500009  0.789494   \n",
       "2   0.52379   0.09026  0.472315  0.845063   0.27149  0.628247  0.477154   \n",
       "3  0.086499  0.052291  0.157832  0.488623  0.319305  0.562958  0.124722   \n",
       "4  0.556148  0.828485  0.707804  0.092851  0.009831  0.034458  0.124095   \n",
       "\n",
       "        7         8         9    ...       324       325       326       327  \\\n",
       "0  0.584996   0.75907  0.418464  ...  0.105098  0.435122  0.401711  0.764785   \n",
       "1  0.327945  0.351401  0.130243  ...  0.077786  0.146825  0.409608  0.311141   \n",
       "2  0.262025  0.383914  0.300435  ...  0.317633  0.221056  0.691396  0.445702   \n",
       "3  0.611114  0.825616  0.858979  ...  0.028878   0.74076  0.523124  0.901038   \n",
       "4  0.740452  0.575833  0.490842  ...  0.534537  0.145551  0.848118  0.268102   \n",
       "\n",
       "        328       329       330       331       332       333  \n",
       "0  0.223443  0.783464  0.135183  0.327712  0.021412    0.1221  \n",
       "1  0.016391  0.576992  0.633623  0.658796  0.509982  0.166479  \n",
       "2  0.073929  0.367832  0.012337  0.582393  0.053749  0.516526  \n",
       "3  0.161927  0.409875  0.905199  0.717915  0.122978  0.559458  \n",
       "4  0.817243  0.204301  0.703649  0.682665   0.27309  0.943805  \n",
       "\n",
       "[5 rows x 334 columns]"
      ]
     },
     "execution_count": 36,
     "metadata": {},
     "output_type": "execute_result"
    }
   ],
   "source": [
    "newdef.T"
   ]
  },
  {
   "cell_type": "code",
   "execution_count": 37,
   "id": "62a2566b",
   "metadata": {},
   "outputs": [
    {
     "data": {
      "text/html": [
       "<div>\n",
       "<style scoped>\n",
       "    .dataframe tbody tr th:only-of-type {\n",
       "        vertical-align: middle;\n",
       "    }\n",
       "\n",
       "    .dataframe tbody tr th {\n",
       "        vertical-align: top;\n",
       "    }\n",
       "\n",
       "    .dataframe thead th {\n",
       "        text-align: right;\n",
       "    }\n",
       "</style>\n",
       "<table border=\"1\" class=\"dataframe\">\n",
       "  <thead>\n",
       "    <tr style=\"text-align: right;\">\n",
       "      <th></th>\n",
       "      <th>0</th>\n",
       "      <th>1</th>\n",
       "      <th>2</th>\n",
       "      <th>3</th>\n",
       "      <th>4</th>\n",
       "    </tr>\n",
       "  </thead>\n",
       "  <tbody>\n",
       "    <tr>\n",
       "      <th>0</th>\n",
       "      <td>nabila</td>\n",
       "      <td>0.944451</td>\n",
       "      <td>0.523790</td>\n",
       "      <td>0.086499</td>\n",
       "      <td>0.556148</td>\n",
       "    </tr>\n",
       "    <tr>\n",
       "      <th>1</th>\n",
       "      <td>0.444443</td>\n",
       "      <td>0.885758</td>\n",
       "      <td>0.090260</td>\n",
       "      <td>0.052291</td>\n",
       "      <td>0.828485</td>\n",
       "    </tr>\n",
       "    <tr>\n",
       "      <th>2</th>\n",
       "      <td>0.950823</td>\n",
       "      <td>0.974773</td>\n",
       "      <td>0.472315</td>\n",
       "      <td>0.157832</td>\n",
       "      <td>0.707804</td>\n",
       "    </tr>\n",
       "    <tr>\n",
       "      <th>3</th>\n",
       "      <td>0.929569</td>\n",
       "      <td>0.754723</td>\n",
       "      <td>0.845063</td>\n",
       "      <td>0.488623</td>\n",
       "      <td>0.092851</td>\n",
       "    </tr>\n",
       "    <tr>\n",
       "      <th>4</th>\n",
       "      <td>0.864225</td>\n",
       "      <td>0.124911</td>\n",
       "      <td>0.271490</td>\n",
       "      <td>0.319305</td>\n",
       "      <td>0.009831</td>\n",
       "    </tr>\n",
       "  </tbody>\n",
       "</table>\n",
       "</div>"
      ],
      "text/plain": [
       "          0         1         2         3         4\n",
       "0    nabila  0.944451  0.523790  0.086499  0.556148\n",
       "1  0.444443  0.885758  0.090260  0.052291  0.828485\n",
       "2  0.950823  0.974773  0.472315  0.157832  0.707804\n",
       "3  0.929569  0.754723  0.845063  0.488623  0.092851\n",
       "4  0.864225  0.124911  0.271490  0.319305  0.009831"
      ]
     },
     "execution_count": 37,
     "metadata": {},
     "output_type": "execute_result"
    }
   ],
   "source": [
    "newdef.head()"
   ]
  },
  {
   "cell_type": "code",
   "execution_count": 38,
   "id": "538e9fd0",
   "metadata": {},
   "outputs": [
    {
     "data": {
      "text/html": [
       "<div>\n",
       "<style scoped>\n",
       "    .dataframe tbody tr th:only-of-type {\n",
       "        vertical-align: middle;\n",
       "    }\n",
       "\n",
       "    .dataframe tbody tr th {\n",
       "        vertical-align: top;\n",
       "    }\n",
       "\n",
       "    .dataframe thead th {\n",
       "        text-align: right;\n",
       "    }\n",
       "</style>\n",
       "<table border=\"1\" class=\"dataframe\">\n",
       "  <thead>\n",
       "    <tr style=\"text-align: right;\">\n",
       "      <th></th>\n",
       "      <th>0</th>\n",
       "      <th>1</th>\n",
       "      <th>2</th>\n",
       "      <th>3</th>\n",
       "      <th>4</th>\n",
       "    </tr>\n",
       "  </thead>\n",
       "  <tbody>\n",
       "    <tr>\n",
       "      <th>2</th>\n",
       "      <td>0.950823</td>\n",
       "      <td>0.974773</td>\n",
       "      <td>0.472315</td>\n",
       "      <td>0.157832</td>\n",
       "      <td>0.707804</td>\n",
       "    </tr>\n",
       "    <tr>\n",
       "      <th>3</th>\n",
       "      <td>0.929569</td>\n",
       "      <td>0.754723</td>\n",
       "      <td>0.845063</td>\n",
       "      <td>0.488623</td>\n",
       "      <td>0.092851</td>\n",
       "    </tr>\n",
       "    <tr>\n",
       "      <th>4</th>\n",
       "      <td>0.864225</td>\n",
       "      <td>0.124911</td>\n",
       "      <td>0.271490</td>\n",
       "      <td>0.319305</td>\n",
       "      <td>0.009831</td>\n",
       "    </tr>\n",
       "  </tbody>\n",
       "</table>\n",
       "</div>"
      ],
      "text/plain": [
       "          0         1         2         3         4\n",
       "2  0.950823  0.974773  0.472315  0.157832  0.707804\n",
       "3  0.929569  0.754723  0.845063  0.488623  0.092851\n",
       "4  0.864225  0.124911  0.271490  0.319305  0.009831"
      ]
     },
     "execution_count": 38,
     "metadata": {},
     "output_type": "execute_result"
    }
   ],
   "source": [
    "newdef[2:5]"
   ]
  },
  {
   "cell_type": "code",
   "execution_count": 39,
   "id": "98420ad5",
   "metadata": {},
   "outputs": [],
   "source": [
    "rows,columns = newdef.shape"
   ]
  },
  {
   "cell_type": "code",
   "execution_count": 40,
   "id": "f6fa8108",
   "metadata": {},
   "outputs": [
    {
     "data": {
      "text/plain": [
       "334"
      ]
     },
     "execution_count": 40,
     "metadata": {},
     "output_type": "execute_result"
    }
   ],
   "source": [
    "rows"
   ]
  },
  {
   "cell_type": "code",
   "execution_count": 41,
   "id": "0517f54f",
   "metadata": {},
   "outputs": [
    {
     "data": {
      "text/plain": [
       "5"
      ]
     },
     "execution_count": 41,
     "metadata": {},
     "output_type": "execute_result"
    }
   ],
   "source": [
    "columns"
   ]
  },
  {
   "cell_type": "code",
   "execution_count": 43,
   "id": "06ef98c5",
   "metadata": {},
   "outputs": [
    {
     "data": {
      "text/plain": [
       "0.9995581836666176"
      ]
     },
     "execution_count": 43,
     "metadata": {},
     "output_type": "execute_result"
    }
   ],
   "source": [
    "newdef[1].max() #min,std,mean"
   ]
  },
  {
   "cell_type": "code",
   "execution_count": null,
   "id": "2c530884",
   "metadata": {},
   "outputs": [],
   "source": []
  }
 ],
 "metadata": {
  "kernelspec": {
   "display_name": "Python 3",
   "language": "python",
   "name": "python3"
  },
  "language_info": {
   "codemirror_mode": {
    "name": "ipython",
    "version": 3
   },
   "file_extension": ".py",
   "mimetype": "text/x-python",
   "name": "python",
   "nbconvert_exporter": "python",
   "pygments_lexer": "ipython3",
   "version": "3.9.4"
  }
 },
 "nbformat": 4,
 "nbformat_minor": 5
}
